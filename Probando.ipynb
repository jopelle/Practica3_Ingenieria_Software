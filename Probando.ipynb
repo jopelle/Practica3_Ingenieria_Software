{
  "nbformat": 4,
  "nbformat_minor": 0,
  "metadata": {
    "colab": {
      "name": "Probando.ipynb",
      "provenance": [],
      "authorship_tag": "ABX9TyOLhyD6cALXoStN5HXbJbPw",
      "include_colab_link": true
    },
    "kernelspec": {
      "name": "python3",
      "display_name": "Python 3"
    },
    "accelerator": "GPU"
  },
  "cells": [
    {
      "cell_type": "markdown",
      "metadata": {
        "id": "view-in-github",
        "colab_type": "text"
      },
      "source": [
        "<a href=\"https://colab.research.google.com/github/jopelle/Practica3_Ingenieria_Software/blob/master/Probando.ipynb\" target=\"_parent\"><img src=\"https://colab.research.google.com/assets/colab-badge.svg\" alt=\"Open In Colab\"/></a>"
      ]
    },
    {
      "cell_type": "markdown",
      "metadata": {
        "id": "tINt4UK_xRIU",
        "colab_type": "text"
      },
      "source": [
        "# **Preparación del dataset**"
      ]
    },
    {
      "cell_type": "markdown",
      "metadata": {
        "id": "m0WKIScexVJD",
        "colab_type": "text"
      },
      "source": [
        "Importamos las librerias que van a ser necesarias para realizar esta práctica"
      ]
    },
    {
      "cell_type": "code",
      "metadata": {
        "id": "A9jieHODw11r",
        "colab_type": "code",
        "colab": {
          "base_uri": "https://localhost:8080/",
          "height": 878
        },
        "outputId": "ec7c1ef2-eb55-4687-dafc-8602a974c304"
      },
      "source": [
        "!pip install fastai2"
      ],
      "execution_count": 1,
      "outputs": [
        {
          "output_type": "stream",
          "text": [
            "Collecting fastai2\n",
            "\u001b[?25l  Downloading https://files.pythonhosted.org/packages/26/4f/0f61bb0d376eb47c20430639bac4946ca0cffcd7e693fb86698656324f2d/fastai2-0.0.17-py3-none-any.whl (190kB)\n",
            "\r\u001b[K     |█▊                              | 10kB 18.6MB/s eta 0:00:01\r\u001b[K     |███▌                            | 20kB 1.7MB/s eta 0:00:01\r\u001b[K     |█████▏                          | 30kB 2.2MB/s eta 0:00:01\r\u001b[K     |███████                         | 40kB 2.5MB/s eta 0:00:01\r\u001b[K     |████████▋                       | 51kB 2.0MB/s eta 0:00:01\r\u001b[K     |██████████▍                     | 61kB 2.2MB/s eta 0:00:01\r\u001b[K     |████████████                    | 71kB 2.5MB/s eta 0:00:01\r\u001b[K     |█████████████▉                  | 81kB 2.7MB/s eta 0:00:01\r\u001b[K     |███████████████▌                | 92kB 2.9MB/s eta 0:00:01\r\u001b[K     |█████████████████▎              | 102kB 2.7MB/s eta 0:00:01\r\u001b[K     |███████████████████             | 112kB 2.7MB/s eta 0:00:01\r\u001b[K     |████████████████████▊           | 122kB 2.7MB/s eta 0:00:01\r\u001b[K     |██████████████████████▍         | 133kB 2.7MB/s eta 0:00:01\r\u001b[K     |████████████████████████▏       | 143kB 2.7MB/s eta 0:00:01\r\u001b[K     |█████████████████████████▉      | 153kB 2.7MB/s eta 0:00:01\r\u001b[K     |███████████████████████████▋    | 163kB 2.7MB/s eta 0:00:01\r\u001b[K     |█████████████████████████████▎  | 174kB 2.7MB/s eta 0:00:01\r\u001b[K     |███████████████████████████████ | 184kB 2.7MB/s eta 0:00:01\r\u001b[K     |████████████████████████████████| 194kB 2.7MB/s \n",
            "\u001b[?25hRequirement already satisfied: scipy in /usr/local/lib/python3.6/dist-packages (from fastai2) (1.4.1)\n",
            "Requirement already satisfied: fastprogress>=0.1.22 in /usr/local/lib/python3.6/dist-packages (from fastai2) (0.2.3)\n",
            "Requirement already satisfied: requests in /usr/local/lib/python3.6/dist-packages (from fastai2) (2.23.0)\n",
            "Requirement already satisfied: scikit-learn in /usr/local/lib/python3.6/dist-packages (from fastai2) (0.22.2.post1)\n",
            "Requirement already satisfied: matplotlib in /usr/local/lib/python3.6/dist-packages (from fastai2) (3.2.1)\n",
            "Requirement already satisfied: spacy in /usr/local/lib/python3.6/dist-packages (from fastai2) (2.2.4)\n",
            "Requirement already satisfied: torchvision>=0.5 in /usr/local/lib/python3.6/dist-packages (from fastai2) (0.6.0+cu101)\n",
            "Requirement already satisfied: pyyaml in /usr/local/lib/python3.6/dist-packages (from fastai2) (3.13)\n",
            "Collecting fastcore\n",
            "  Downloading https://files.pythonhosted.org/packages/dd/f3/8cd2e1ed981b0ddbe4d56e5d44f52c9e56d27ac7d53c30abb534d10c82c2/fastcore-0.1.17-py3-none-any.whl\n",
            "Requirement already satisfied: pandas in /usr/local/lib/python3.6/dist-packages (from fastai2) (1.0.3)\n",
            "Requirement already satisfied: torch>=1.3.0 in /usr/local/lib/python3.6/dist-packages (from fastai2) (1.5.0+cu101)\n",
            "Requirement already satisfied: pillow in /usr/local/lib/python3.6/dist-packages (from fastai2) (7.0.0)\n",
            "Requirement already satisfied: numpy>=1.13.3 in /usr/local/lib/python3.6/dist-packages (from scipy->fastai2) (1.18.4)\n",
            "Requirement already satisfied: chardet<4,>=3.0.2 in /usr/local/lib/python3.6/dist-packages (from requests->fastai2) (3.0.4)\n",
            "Requirement already satisfied: certifi>=2017.4.17 in /usr/local/lib/python3.6/dist-packages (from requests->fastai2) (2020.4.5.1)\n",
            "Requirement already satisfied: urllib3!=1.25.0,!=1.25.1,<1.26,>=1.21.1 in /usr/local/lib/python3.6/dist-packages (from requests->fastai2) (1.24.3)\n",
            "Requirement already satisfied: idna<3,>=2.5 in /usr/local/lib/python3.6/dist-packages (from requests->fastai2) (2.9)\n",
            "Requirement already satisfied: joblib>=0.11 in /usr/local/lib/python3.6/dist-packages (from scikit-learn->fastai2) (0.15.0)\n",
            "Requirement already satisfied: cycler>=0.10 in /usr/local/lib/python3.6/dist-packages (from matplotlib->fastai2) (0.10.0)\n",
            "Requirement already satisfied: pyparsing!=2.0.4,!=2.1.2,!=2.1.6,>=2.0.1 in /usr/local/lib/python3.6/dist-packages (from matplotlib->fastai2) (2.4.7)\n",
            "Requirement already satisfied: kiwisolver>=1.0.1 in /usr/local/lib/python3.6/dist-packages (from matplotlib->fastai2) (1.2.0)\n",
            "Requirement already satisfied: python-dateutil>=2.1 in /usr/local/lib/python3.6/dist-packages (from matplotlib->fastai2) (2.8.1)\n",
            "Requirement already satisfied: cymem<2.1.0,>=2.0.2 in /usr/local/lib/python3.6/dist-packages (from spacy->fastai2) (2.0.3)\n",
            "Requirement already satisfied: tqdm<5.0.0,>=4.38.0 in /usr/local/lib/python3.6/dist-packages (from spacy->fastai2) (4.41.1)\n",
            "Requirement already satisfied: murmurhash<1.1.0,>=0.28.0 in /usr/local/lib/python3.6/dist-packages (from spacy->fastai2) (1.0.2)\n",
            "Requirement already satisfied: plac<1.2.0,>=0.9.6 in /usr/local/lib/python3.6/dist-packages (from spacy->fastai2) (1.1.3)\n",
            "Requirement already satisfied: srsly<1.1.0,>=1.0.2 in /usr/local/lib/python3.6/dist-packages (from spacy->fastai2) (1.0.2)\n",
            "Requirement already satisfied: catalogue<1.1.0,>=0.0.7 in /usr/local/lib/python3.6/dist-packages (from spacy->fastai2) (1.0.0)\n",
            "Requirement already satisfied: setuptools in /usr/local/lib/python3.6/dist-packages (from spacy->fastai2) (46.3.0)\n",
            "Requirement already satisfied: thinc==7.4.0 in /usr/local/lib/python3.6/dist-packages (from spacy->fastai2) (7.4.0)\n",
            "Requirement already satisfied: preshed<3.1.0,>=3.0.2 in /usr/local/lib/python3.6/dist-packages (from spacy->fastai2) (3.0.2)\n",
            "Requirement already satisfied: blis<0.5.0,>=0.4.0 in /usr/local/lib/python3.6/dist-packages (from spacy->fastai2) (0.4.1)\n",
            "Requirement already satisfied: wasabi<1.1.0,>=0.4.0 in /usr/local/lib/python3.6/dist-packages (from spacy->fastai2) (0.6.0)\n",
            "Requirement already satisfied: dataclasses>='0.7'; python_version < \"3.7\" in /usr/local/lib/python3.6/dist-packages (from fastcore->fastai2) (0.7)\n",
            "Requirement already satisfied: pytz>=2017.2 in /usr/local/lib/python3.6/dist-packages (from pandas->fastai2) (2018.9)\n",
            "Requirement already satisfied: future in /usr/local/lib/python3.6/dist-packages (from torch>=1.3.0->fastai2) (0.16.0)\n",
            "Requirement already satisfied: six in /usr/local/lib/python3.6/dist-packages (from cycler>=0.10->matplotlib->fastai2) (1.12.0)\n",
            "Requirement already satisfied: importlib-metadata>=0.20; python_version < \"3.8\" in /usr/local/lib/python3.6/dist-packages (from catalogue<1.1.0,>=0.0.7->spacy->fastai2) (1.6.0)\n",
            "Requirement already satisfied: zipp>=0.5 in /usr/local/lib/python3.6/dist-packages (from importlib-metadata>=0.20; python_version < \"3.8\"->catalogue<1.1.0,>=0.0.7->spacy->fastai2) (3.1.0)\n",
            "Installing collected packages: fastcore, fastai2\n",
            "Successfully installed fastai2-0.0.17 fastcore-0.1.17\n"
          ],
          "name": "stdout"
        }
      ]
    },
    {
      "cell_type": "code",
      "metadata": {
        "id": "GafCuj5jv52V",
        "colab_type": "code",
        "colab": {}
      },
      "source": [
        "import sys\n",
        "from fastai.text import *\n",
        "import html\n",
        "import json\n",
        "import numpy as np\n",
        "from pathlib import Path\n",
        "from fastai2.text.all import *"
      ],
      "execution_count": 0,
      "outputs": []
    },
    {
      "cell_type": "markdown",
      "metadata": {
        "id": "Xoq-yBlnxceD",
        "colab_type": "text"
      },
      "source": [
        "Descomprimimos la libreria noticias "
      ]
    },
    {
      "cell_type": "code",
      "metadata": {
        "id": "tZ8wJXfSwwXI",
        "colab_type": "code",
        "colab": {}
      },
      "source": [
        "!unzip noticias.zip -d noticias"
      ],
      "execution_count": 0,
      "outputs": []
    },
    {
      "cell_type": "markdown",
      "metadata": {
        "id": "bhs6KTLsxh-T",
        "colab_type": "text"
      },
      "source": [
        "Mostramos todos los nombres de los ficheros que se encuentran en nuestra carpeta noticias.\n",
        "\n",
        "Guardamos el contenido de los ficheros en la variable jsons."
      ]
    },
    {
      "cell_type": "code",
      "metadata": {
        "id": "9FhS6NMowyx2",
        "colab_type": "code",
        "colab": {}
      },
      "source": [
        "path=Path('./noticias')\n",
        "jsons=[]\n",
        "for file in path.iterdir():\n",
        "    print(file)\n",
        "    for line in open(file, 'r', encoding=\"utf-8\"):\n",
        "        jsons.append(json.loads(line))"
      ],
      "execution_count": 0,
      "outputs": []
    },
    {
      "cell_type": "markdown",
      "metadata": {
        "id": "dQekAnfwxmAo",
        "colab_type": "text"
      },
      "source": [
        "Ahora tenemos el contenido de cada fichero json en una componente de la varialbe jsons."
      ]
    },
    {
      "cell_type": "markdown",
      "metadata": {
        "id": "qY5Zrg_qxl3p",
        "colab_type": "text"
      },
      "source": [
        "Mostramos los keys de los json"
      ]
    },
    {
      "cell_type": "code",
      "metadata": {
        "id": "XdtapMiYxI_i",
        "colab_type": "code",
        "colab": {}
      },
      "source": [
        "jsons[0].keys()"
      ],
      "execution_count": 0,
      "outputs": []
    },
    {
      "cell_type": "markdown",
      "metadata": {
        "id": "q47WzCv2xyCx",
        "colab_type": "text"
      },
      "source": [
        "Nos interesa el contenido de 'result', ya que los otros no aportan mucho.\n"
      ]
    },
    {
      "cell_type": "code",
      "metadata": {
        "id": "F377ivWMxNde",
        "colab_type": "code",
        "colab": {}
      },
      "source": [
        "jsons[0]['result'].keys()"
      ],
      "execution_count": 0,
      "outputs": []
    },
    {
      "cell_type": "code",
      "metadata": {
        "id": "QsEwkb8_x1jO",
        "colab_type": "code",
        "colab": {}
      },
      "source": [
        "for k in jsons[0]['result'].keys():\n",
        "    print(k, type(jsons[0]['result'][k]))"
      ],
      "execution_count": 0,
      "outputs": []
    },
    {
      "cell_type": "code",
      "metadata": {
        "id": "UlQwEu5ex4ZP",
        "colab_type": "code",
        "colab": {}
      },
      "source": [
        "jsons[0]['result']['facets']"
      ],
      "execution_count": 0,
      "outputs": []
    },
    {
      "cell_type": "code",
      "metadata": {
        "id": "Li4UGRhLx6Sv",
        "colab_type": "code",
        "colab": {}
      },
      "source": [
        "jsons[0]['result']['results']"
      ],
      "execution_count": 0,
      "outputs": []
    },
    {
      "cell_type": "markdown",
      "metadata": {
        "id": "JoObpFQRyAt8",
        "colab_type": "text"
      },
      "source": [
        "Como podemos ver, en 'results' tenemos una lista con la información de cada noticia."
      ]
    },
    {
      "cell_type": "code",
      "metadata": {
        "id": "3mPoqEuSx7hv",
        "colab_type": "code",
        "colab": {}
      },
      "source": [
        "type(jsons[0]['result']['results'][0])"
      ],
      "execution_count": 0,
      "outputs": []
    },
    {
      "cell_type": "markdown",
      "metadata": {
        "id": "PmI3MykRyISR",
        "colab_type": "text"
      },
      "source": [
        "La descripción de las noticias es la información que nos interesa y las descripciones serán nuestras clases"
      ]
    },
    {
      "cell_type": "code",
      "metadata": {
        "id": "tnahtrEOyHBS",
        "colab_type": "code",
        "colab": {}
      },
      "source": [
        "org='organizacion'\n",
        "desc='descripcion'"
      ],
      "execution_count": 0,
      "outputs": []
    },
    {
      "cell_type": "code",
      "metadata": {
        "id": "ZKkj-TrDyZa_",
        "colab_type": "code",
        "colab": {}
      },
      "source": [
        "etiquetas = []\n",
        "descripciones = []\n",
        "organizaciones = []\n",
        "\n",
        "for ficheroJson in jsons:\n",
        "    for noticia in ficheroJson['result']['results']:\n",
        "        if 'organizacion' in noticia and len(noticia[org])==1 and len(noticia[desc])>0:\n",
        "            etiquetas.append(noticia[org][0])\n",
        "            descripciones.append(noticia[desc])\n",
        "            organizaciones.append(noticia[org][0])"
      ],
      "execution_count": 0,
      "outputs": []
    },
    {
      "cell_type": "markdown",
      "metadata": {
        "id": "omV7fMt80vFa",
        "colab_type": "text"
      },
      "source": [
        "Transformamos las organizaciones en números enteros"
      ]
    },
    {
      "cell_type": "code",
      "metadata": {
        "id": "JVjT8JQ5zxBN",
        "colab_type": "code",
        "colab": {}
      },
      "source": [
        "def labels_to_num(tags, labels_dict):\n",
        "    labels = [labels_dict[i] for i in tags]\n",
        "    labels = np.array(labels)\n",
        "    return labels\n",
        "\n",
        "str_labels = set(etiquetas)\n",
        "labels_dict = {tag: i for i, tag in enumerate(str_labels)}\n",
        "\n",
        "organizaciones = labels_to_num(train_organizaciones, labels_dict)"
      ],
      "execution_count": 0,
      "outputs": []
    },
    {
      "cell_type": "markdown",
      "metadata": {
        "id": "iQaaLtyx0kvS",
        "colab_type": "text"
      },
      "source": [
        "Con el siguiente código \"limpiamos\" las descripciones de elementos html"
      ]
    },
    {
      "cell_type": "code",
      "metadata": {
        "id": "9KoLq-EX0ijP",
        "colab_type": "code",
        "colab": {}
      },
      "source": [
        "def cleanhtml(raw_html):\n",
        "  cleanr = re.compile('<.*?>')\n",
        "  cleantext = re.sub(cleanr, '', raw_html)\n",
        "  return cleantext"
      ],
      "execution_count": 0,
      "outputs": []
    },
    {
      "cell_type": "code",
      "metadata": {
        "id": "wn3bFVLo0iV6",
        "colab_type": "code",
        "colab": {}
      },
      "source": [
        "def limpiarDescripcion(descs):\n",
        "  descsBien = []\n",
        "  for i in range(len(descs)):\n",
        "      a = cleanhtml(descs[i])\n",
        "      a = a.replace(\"\\r\\n\",\" \")\n",
        "      a = html.unescape(a)\n",
        "      a = a.strip()\n",
        "      descsBien.append(a)\n",
        "  return descsBien"
      ],
      "execution_count": 0,
      "outputs": []
    },
    {
      "cell_type": "code",
      "metadata": {
        "id": "7oay0-3t09f2",
        "colab_type": "code",
        "colab": {}
      },
      "source": [
        "descBien = limpiarDescripcion(descripciones)"
      ],
      "execution_count": 0,
      "outputs": []
    },
    {
      "cell_type": "code",
      "metadata": {
        "id": "6ekGTMTmy3P3",
        "colab_type": "code",
        "colab": {}
      },
      "source": [
        "np.random.seed(42)\n",
        "\n",
        "trn_idx = np.random.permutation(len(tweets))\n",
        "\n",
        "tweets = tweets[trn_idx]\n",
        "labels = labels[trn_idx]\n",
        "types = types[trn_idx]"
      ],
      "execution_count": 0,
      "outputs": []
    }
  ]
}