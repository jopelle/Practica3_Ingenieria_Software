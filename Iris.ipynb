{
  "nbformat": 4,
  "nbformat_minor": 0,
  "metadata": {
    "colab": {
      "name": "Iris.ipynb",
      "provenance": [],
      "collapsed_sections": [],
      "include_colab_link": true
    },
    "kernelspec": {
      "name": "python3",
      "display_name": "Python 3"
    }
  },
  "cells": [
    {
      "cell_type": "markdown",
      "metadata": {
        "id": "view-in-github",
        "colab_type": "text"
      },
      "source": [
        "<a href=\"https://colab.research.google.com/github/jopelle/Practica3_Ingenieria_Software/blob/master/Iris.ipynb\" target=\"_parent\"><img src=\"https://colab.research.google.com/assets/colab-badge.svg\" alt=\"Open In Colab\"/></a>"
      ]
    },
    {
      "cell_type": "markdown",
      "metadata": {
        "id": "XfuNqjND9Xd-",
        "colab_type": "text"
      },
      "source": [
        "# Nuestro primer modelo de clasificación\n",
        "\n",
        "Antes de empezar, pulsa en el botón **Abrir en modo de ensayo** que aparece justo debajo de la barra de herramientas, e inicia sesión con tu cuenta de Google. \n",
        "\n",
        "En este [notebook de Jupyter](https://jupyter.org/) vamos a entrenar el algoritmo KNN para clasificar flores de [Iris](https://www.google.com/search?q=flor+de+iris&source=lnms&tbm=isch&sa=X&ved=0ahUKEwi3pvz3goLhAhUFLBoKHbQvDeMQ_AUIDigB&biw=1853&bih=981) en tres posibles clases (Iris setosa, Iris virginica e Iris versicolor), a partir de información como el ancho y largo del sépalo, y el áncho y largo del pétalo.\n",
        "\n",
        "![alt text](http://latour-marliac.com/323-large_default/iris-versicolor-iris-versicolore.jpg)\n"
      ]
    },
    {
      "cell_type": "markdown",
      "metadata": {
        "id": "0GbZ46QE-6vw",
        "colab_type": "text"
      },
      "source": [
        "## Introducción \n",
        "\n",
        "Los notebooks de Jupyter son una manera de interactuar con el lenguaje de programación Python, uno de los lenguajes más utilizados en el ámbito del aprendizaje automático. Estos notebooks, o cuadernos, mezclan celdas de texto con celdas de código. Lo que estás leyendo es una celda de texto en la cual se da una explicación. La siguiente celda, en la que aparece ``1+2``, es una celda de código que se puede ejecutar. Para ello pincha sobre la celda, verás que a la izquierda de la misma aparece un botón con el símbolo de *play*. Haz click sobre dicho botón. Una vez que hagas click la expresión de la celda (``1+2``) se evaluará y se mostrará el resultado. Después de pulsar el botón *play* aparecerá un número donde antes estaba el botón. Esto indica que se ha ejecutado la instrucción.\n",
        "\n",
        "Las celdas de código se pueden ver como una especie de calculadora donde escribimos el cálculo que queremos realizar, y al pulsar el botón de *play* se ejecuta la instrucción que hayamos introducido. "
      ]
    },
    {
      "cell_type": "code",
      "metadata": {
        "id": "uL1TkjSU9WCS",
        "colab_type": "code",
        "colab": {}
      },
      "source": [
        "1+8"
      ],
      "execution_count": 0,
      "outputs": []
    },
    {
      "cell_type": "markdown",
      "metadata": {
        "id": "3IIa2nfIZmiz",
        "colab_type": "text"
      },
      "source": [
        "Además de los operadores básicos (como la suma, la resta, la división, etc.) existen muchas funciones para realizar cálculos. Por ejemplo, en la siguiente celda aparece la función ``max`` que calcula el máximo de dos números, el 10 y el 3, que se le pasan como parámetros a la función. Prueba a cambiar los números 10 y 3 por los números que tú quieras, y comprueba que al ejecutar la celda se obtiene el resultado esperado."
      ]
    },
    {
      "cell_type": "code",
      "metadata": {
        "id": "Nz0uY1YMZmOc",
        "colab_type": "code",
        "colab": {}
      },
      "source": [
        "max(10,3)"
      ],
      "execution_count": 0,
      "outputs": []
    },
    {
      "cell_type": "markdown",
      "metadata": {
        "id": "5aIi3ti3CLu4",
        "colab_type": "text"
      },
      "source": [
        "## Librerías necesarias\n",
        "La siguiente celda carga las librerías de funciones que serán necesarias para construir nuestro modelo. Por así decirlo estamos extendiendo el número de operaciones que se pueden hacer con nuestra calculadora. \n",
        "\n",
        "**Es importante que ejecutes (hagas click en el botón play) de todas las celdas de código, y en el orden que aparecen en el cuaderno, de lo contrario es posible que las cosas no funcionen de manera correcta**."
      ]
    },
    {
      "cell_type": "code",
      "metadata": {
        "id": "_zD8QToRDR6Y",
        "colab_type": "code",
        "colab": {}
      },
      "source": [
        "from pandas import read_csv\n",
        "from sklearn.model_selection import train_test_split\n",
        "from sklearn.neighbors import KNeighborsClassifier\n",
        "from sklearn.metrics import accuracy_score"
      ],
      "execution_count": 0,
      "outputs": []
    },
    {
      "cell_type": "markdown",
      "metadata": {
        "id": "pYs585JYApJg",
        "colab_type": "text"
      },
      "source": [
        "## Entrenando el modelo\n",
        "\n",
        "Como hemos comentado en las diapositivas, los pasos para entrenar un modelo de clasificación son los siguientes:\n",
        "1. Obtener un dataset.\n",
        "2. Extraer descriptores.\n",
        "3. Partir el dataset.\n",
        "4. Entrenar un modelo.\n",
        "5. Evaluar el modelo.\n",
        "\n",
        "Vamos a ver cada uno de estos pasos.\n",
        "\n"
      ]
    },
    {
      "cell_type": "markdown",
      "metadata": {
        "id": "AIZgu6zOCDYL",
        "colab_type": "text"
      },
      "source": [
        "### 1. Dataset y descriptores\n",
        "\n",
        "Comenzamos descargando nuestro dataset de muestras de flores de iris y extrayendo los descriptores del mismo. En este caso vamos a descargar directamente el dataset de descriptores. Esto es gracias a que alguien (en concreto, el biólogo [Ronald Fisher](https://en.wikipedia.org/wiki/Ronald_Fisher)) se encargó de recoger una gran cantidad de muestras de flores de iris, de medir la anchura y altura del sépalo y del pétalo de cada una de las muestras, y de clasificarlas en tres posibles categorías: Iris setosa, Iris virginica e Iris versicolor.\n",
        "\n",
        "Al ejecutar la siguiente celda se descarga un fichero csv con el [dataset de iris](https://en.wikipedia.org/wiki/Iris_flower_data_set). En concreto lo que está haciendo la siguiente celda es descargar de una página web el fichero iris.csv y guardarlo en la nube donde estamos ejecutando este notebook."
      ]
    },
    {
      "cell_type": "code",
      "metadata": {
        "id": "6mkvTK1uCCOu",
        "colab_type": "code",
        "outputId": "9aa68308-f2ce-4be3-c64d-753545cc95b4",
        "colab": {
          "base_uri": "https://localhost:8080/",
          "height": 232
        }
      },
      "source": [
        "!wget https://raw.githubusercontent.com/IA1819/Datasets/master/iris.csv -O iris.csv"
      ],
      "execution_count": 0,
      "outputs": [
        {
          "output_type": "stream",
          "text": [
            "--2020-03-01 13:39:18--  https://raw.githubusercontent.com/IA1819/Datasets/master/iris.csv\n",
            "Resolving raw.githubusercontent.com (raw.githubusercontent.com)... 151.101.0.133, 151.101.64.133, 151.101.128.133, ...\n",
            "Connecting to raw.githubusercontent.com (raw.githubusercontent.com)|151.101.0.133|:443... connected.\n",
            "HTTP request sent, awaiting response... 200 OK\n",
            "Length: 4606 (4.5K) [text/plain]\n",
            "Saving to: ‘iris.csv’\n",
            "\n",
            "\riris.csv              0%[                    ]       0  --.-KB/s               \riris.csv            100%[===================>]   4.50K  --.-KB/s    in 0s      \n",
            "\n",
            "2020-03-01 13:39:18 (72.1 MB/s) - ‘iris.csv’ saved [4606/4606]\n",
            "\n"
          ],
          "name": "stdout"
        }
      ]
    },
    {
      "cell_type": "markdown",
      "metadata": {
        "id": "8EEPyTvyEnGf",
        "colab_type": "text"
      },
      "source": [
        "A continuación cargamos el dataset de muestras de plantas de iris en una variable, llamada ``dataset``,  usando la instrucción ``read_csv('iris.csv')`` que lo que hace es leer el fichero que hemos descargado en el paso anterior."
      ]
    },
    {
      "cell_type": "code",
      "metadata": {
        "id": "1K3iEt5nEksB",
        "colab_type": "code",
        "colab": {}
      },
      "source": [
        "dataset = read_csv('iris.csv')"
      ],
      "execution_count": 0,
      "outputs": []
    },
    {
      "cell_type": "markdown",
      "metadata": {
        "id": "QEqqxXi_FSuj",
        "colab_type": "text"
      },
      "source": [
        "Al almacenar el dataset en una variable, tenemos una manera sencilla de hacer operaciones sobre el mismo. Por ejemplo, podemos mostrar el valor de esa variable."
      ]
    },
    {
      "cell_type": "code",
      "metadata": {
        "id": "0lRzV3sjFRtA",
        "colab_type": "code",
        "outputId": "40a9de99-2e42-4818-9ecd-7c0c07d61ddf",
        "colab": {
          "base_uri": "https://localhost:8080/",
          "height": 417
        }
      },
      "source": [
        "dataset"
      ],
      "execution_count": 0,
      "outputs": [
        {
          "output_type": "execute_result",
          "data": {
            "text/html": [
              "<div>\n",
              "<style scoped>\n",
              "    .dataframe tbody tr th:only-of-type {\n",
              "        vertical-align: middle;\n",
              "    }\n",
              "\n",
              "    .dataframe tbody tr th {\n",
              "        vertical-align: top;\n",
              "    }\n",
              "\n",
              "    .dataframe thead th {\n",
              "        text-align: right;\n",
              "    }\n",
              "</style>\n",
              "<table border=\"1\" class=\"dataframe\">\n",
              "  <thead>\n",
              "    <tr style=\"text-align: right;\">\n",
              "      <th></th>\n",
              "      <th>sepal_length</th>\n",
              "      <th>sepal_width</th>\n",
              "      <th>petal_length</th>\n",
              "      <th>petal_width</th>\n",
              "      <th>class</th>\n",
              "    </tr>\n",
              "  </thead>\n",
              "  <tbody>\n",
              "    <tr>\n",
              "      <th>0</th>\n",
              "      <td>5.1</td>\n",
              "      <td>3.5</td>\n",
              "      <td>1.4</td>\n",
              "      <td>0.2</td>\n",
              "      <td>Iris-setosa</td>\n",
              "    </tr>\n",
              "    <tr>\n",
              "      <th>1</th>\n",
              "      <td>4.9</td>\n",
              "      <td>3.0</td>\n",
              "      <td>1.4</td>\n",
              "      <td>0.2</td>\n",
              "      <td>Iris-setosa</td>\n",
              "    </tr>\n",
              "    <tr>\n",
              "      <th>2</th>\n",
              "      <td>4.7</td>\n",
              "      <td>3.2</td>\n",
              "      <td>1.3</td>\n",
              "      <td>0.2</td>\n",
              "      <td>Iris-setosa</td>\n",
              "    </tr>\n",
              "    <tr>\n",
              "      <th>3</th>\n",
              "      <td>4.6</td>\n",
              "      <td>3.1</td>\n",
              "      <td>1.5</td>\n",
              "      <td>0.2</td>\n",
              "      <td>Iris-setosa</td>\n",
              "    </tr>\n",
              "    <tr>\n",
              "      <th>4</th>\n",
              "      <td>5.0</td>\n",
              "      <td>3.6</td>\n",
              "      <td>1.4</td>\n",
              "      <td>0.2</td>\n",
              "      <td>Iris-setosa</td>\n",
              "    </tr>\n",
              "    <tr>\n",
              "      <th>...</th>\n",
              "      <td>...</td>\n",
              "      <td>...</td>\n",
              "      <td>...</td>\n",
              "      <td>...</td>\n",
              "      <td>...</td>\n",
              "    </tr>\n",
              "    <tr>\n",
              "      <th>145</th>\n",
              "      <td>6.7</td>\n",
              "      <td>3.0</td>\n",
              "      <td>5.2</td>\n",
              "      <td>2.3</td>\n",
              "      <td>Iris-virginica</td>\n",
              "    </tr>\n",
              "    <tr>\n",
              "      <th>146</th>\n",
              "      <td>6.3</td>\n",
              "      <td>2.5</td>\n",
              "      <td>5.0</td>\n",
              "      <td>1.9</td>\n",
              "      <td>Iris-virginica</td>\n",
              "    </tr>\n",
              "    <tr>\n",
              "      <th>147</th>\n",
              "      <td>6.5</td>\n",
              "      <td>3.0</td>\n",
              "      <td>5.2</td>\n",
              "      <td>2.0</td>\n",
              "      <td>Iris-virginica</td>\n",
              "    </tr>\n",
              "    <tr>\n",
              "      <th>148</th>\n",
              "      <td>6.2</td>\n",
              "      <td>3.4</td>\n",
              "      <td>5.4</td>\n",
              "      <td>2.3</td>\n",
              "      <td>Iris-virginica</td>\n",
              "    </tr>\n",
              "    <tr>\n",
              "      <th>149</th>\n",
              "      <td>5.9</td>\n",
              "      <td>3.0</td>\n",
              "      <td>5.1</td>\n",
              "      <td>1.8</td>\n",
              "      <td>Iris-virginica</td>\n",
              "    </tr>\n",
              "  </tbody>\n",
              "</table>\n",
              "<p>150 rows × 5 columns</p>\n",
              "</div>"
            ],
            "text/plain": [
              "     sepal_length  sepal_width  petal_length  petal_width           class\n",
              "0             5.1          3.5           1.4          0.2     Iris-setosa\n",
              "1             4.9          3.0           1.4          0.2     Iris-setosa\n",
              "2             4.7          3.2           1.3          0.2     Iris-setosa\n",
              "3             4.6          3.1           1.5          0.2     Iris-setosa\n",
              "4             5.0          3.6           1.4          0.2     Iris-setosa\n",
              "..            ...          ...           ...          ...             ...\n",
              "145           6.7          3.0           5.2          2.3  Iris-virginica\n",
              "146           6.3          2.5           5.0          1.9  Iris-virginica\n",
              "147           6.5          3.0           5.2          2.0  Iris-virginica\n",
              "148           6.2          3.4           5.4          2.3  Iris-virginica\n",
              "149           5.9          3.0           5.1          1.8  Iris-virginica\n",
              "\n",
              "[150 rows x 5 columns]"
            ]
          },
          "metadata": {
            "tags": []
          },
          "execution_count": 4
        }
      ]
    },
    {
      "cell_type": "markdown",
      "metadata": {
        "id": "MgwJp8vwG16V",
        "colab_type": "text"
      },
      "source": [
        "El resultado de ejecutar la expresión anterior es una tabla donde cada fila representa una muestra de flor de iris (una *instancia*), y cada columna de esa fila da una propiedad de esa muestra.  Una columna destacada es **class** que nos indica la clase de flor de iris de la muestra.\n",
        "\n",
        "Como hemos comentado anteriormente, nuestro objetivo es crear un modelo que usando KNN sea capaz de predecir la clase a partir de la información de ancho y alto de sépalo y pétalo (es decir, a partir de los descriptores de la muestra)."
      ]
    },
    {
      "cell_type": "markdown",
      "metadata": {
        "id": "QL8ToDNoILnz",
        "colab_type": "text"
      },
      "source": [
        "En la tabla anterior tenemos juntos los descriptores y la clase de cada muestra, pero los algoritmos de aprendizaje automático necesitan recibirlos por separado. Eso es lo que hacemos al ejecutar la siguiente celda. En concreto nos creamos dos variables llamadas ``descriptores`` y ``clases`` que almacenan, respectivamente, los descriptores y las clase de cada muestra. \n",
        "\n",
        "Para ser más concretos, en ``descriptores`` almacenamos la tabla anterior eliminando la última columna, y en ``clases`` almacenamos la última columna de la tabla."
      ]
    },
    {
      "cell_type": "code",
      "metadata": {
        "id": "zYpOM5JfIKDj",
        "colab_type": "code",
        "colab": {}
      },
      "source": [
        "descriptores = dataset.values[:,0:-1]"
      ],
      "execution_count": 0,
      "outputs": []
    },
    {
      "cell_type": "code",
      "metadata": {
        "id": "PzpVD9lgWhPl",
        "colab_type": "code",
        "colab": {}
      },
      "source": [
        "clases = dataset.values[:,-1]"
      ],
      "execution_count": 0,
      "outputs": []
    },
    {
      "cell_type": "markdown",
      "metadata": {
        "id": "dLgSavHuHkby",
        "colab_type": "text"
      },
      "source": [
        "### 2. Partiendo el dataset.\n",
        "\n",
        "Ahora vamos a partir el dataset en dos bloques: uno que utilizaremos para entrenar (el *conjunto de entrenamiento*) y otro que utilizaremos para evaluar el rendimiento del modelo que entrenemos (el *conjunto de test*).\n",
        "\n",
        "Para ello vamos a utilizar la función ``train_test_split`` que recibe los descriptores y las clases y las divide en dos grupos usando un porcentaje. En concreto en este caso vamos a usar el 75% de los datos para entrenar y el 25% para probar, estos son los valores por defecto utilizados por la función ``train_test_split``. También a la función  ``train_test_split`` le pasamos un valor llamado ``random_state`` que sirve para poder reproducir los resultados (de lo contrario cada vez que probáramos este notebook obtendríamos una partición distinta, ya que dicha partición se realiza de manera aleatoria), a este valor se le llama [semilla](https://en.wikipedia.org/wiki/Random_seed).\n",
        "\n",
        "La instrucción  ``train_test_split`` devuelve 4 valores que son los descriptores del conjunto de entrenamiento, las clases del conjunto de entrenamiento, los descriptores del conjunto de test, y las clases del conjunto de test. Almacenamos dichos valores en las variables correspondientes."
      ]
    },
    {
      "cell_type": "code",
      "metadata": {
        "id": "Zf9YQBP-G0GI",
        "colab_type": "code",
        "colab": {}
      },
      "source": [
        "descriptores_entrenamiento, descriptores_test, clases_entrenamiento, clases_test = train_test_split(descriptores,clases,test_size =.1,random_state=42)"
      ],
      "execution_count": 0,
      "outputs": []
    },
    {
      "cell_type": "markdown",
      "metadata": {
        "id": "MCuMaCZgYMKY",
        "colab_type": "text"
      },
      "source": [
        "### 3. Entrenando el modelo\n",
        "\n",
        "El siguiente paso consite en entrenar el modelo. Para ello lo primero que vamos a hacer es almacenar en la variable ``knn`` el clasificador KNN. \n",
        "\n"
      ]
    },
    {
      "cell_type": "code",
      "metadata": {
        "id": "slnau1RtYFQ2",
        "colab_type": "code",
        "colab": {}
      },
      "source": [
        "knn = KNeighborsClassifier(n_neighbors=1)"
      ],
      "execution_count": 0,
      "outputs": []
    },
    {
      "cell_type": "markdown",
      "metadata": {
        "id": "SMY0uytGY31W",
        "colab_type": "text"
      },
      "source": [
        "En un primer momento este clasificador no sabe nada, y aprenderá cuando lo entrenemos con nuestro dataset. Esta manera de trabajar permite entrenar el mismo clasificador con distintos datasets de manera sencilla.\n",
        "\n",
        "A continuación mostramos cómo se realiza el entrenamiento, que consite en llamar a la función ``fit`` pasándole como parámetros los descriptores y las clases de entrenamiento. "
      ]
    },
    {
      "cell_type": "code",
      "metadata": {
        "id": "seyNPQtBY1Tp",
        "colab_type": "code",
        "outputId": "90acbadf-99be-499f-f8e7-9a1c6ca264dc",
        "colab": {
          "base_uri": "https://localhost:8080/",
          "height": 70
        }
      },
      "source": [
        "knn.fit(descriptores_entrenamiento,clases_entrenamiento)"
      ],
      "execution_count": 0,
      "outputs": [
        {
          "output_type": "execute_result",
          "data": {
            "text/plain": [
              "KNeighborsClassifier(algorithm='auto', leaf_size=30, metric='minkowski',\n",
              "                     metric_params=None, n_jobs=None, n_neighbors=1, p=2,\n",
              "                     weights='uniform')"
            ]
          },
          "metadata": {
            "tags": []
          },
          "execution_count": 9
        }
      ]
    },
    {
      "cell_type": "markdown",
      "metadata": {
        "id": "8oPqA_EvaLCY",
        "colab_type": "text"
      },
      "source": [
        "Ya hemos entrenado nuestro modelo :-)\n",
        "\n",
        "Ahora queda probarlo para ver qué tal funciona."
      ]
    },
    {
      "cell_type": "markdown",
      "metadata": {
        "id": "aC8fAM76aU-U",
        "colab_type": "text"
      },
      "source": [
        "### 4. Evaluando el modelo\n",
        "\n",
        "A continuación vamos a ver es cómo evaluar el rendimiento del modelo con datos que no ha visto hasta ahora, para ello usaremos el conjunto de test, y calcularemos su *accuracy* (número de aciertos entre número total de predicciones). \n",
        "\n",
        "Para ello utilizamos la función ``accuracy_score`` que recibe como parámetro las clases del conjunto de test (es decir el resultado esperado) y las clases predichas por nuestro clasificador (obtenidas mediante la instrucción ``knn.predict(descriptores_test)``)."
      ]
    },
    {
      "cell_type": "code",
      "metadata": {
        "id": "HsHL67s5ZVuJ",
        "colab_type": "code",
        "outputId": "338e3c96-224d-4440-a73b-dce033d4f102",
        "colab": {
          "base_uri": "https://localhost:8080/",
          "height": 35
        }
      },
      "source": [
        "accuracy_score(clases_test,knn.predict(descriptores_test))"
      ],
      "execution_count": 0,
      "outputs": [
        {
          "output_type": "execute_result",
          "data": {
            "text/plain": [
              "1.0"
            ]
          },
          "metadata": {
            "tags": []
          },
          "execution_count": 11
        }
      ]
    },
    {
      "cell_type": "markdown",
      "metadata": {
        "id": "5gi7fss-b2tS",
        "colab_type": "text"
      },
      "source": [
        "Hemos obtenido una *accuracy* del 100%. Es decir, que para nuestro conjunto de test, el clasificador que hemos construido acierta siempre. Esto  es algo poco habitual, pero que en este caso, al ser un dataset pequeño y sencillo es posible.   "
      ]
    },
    {
      "cell_type": "markdown",
      "metadata": {
        "id": "yf6nTh0_ITpM",
        "colab_type": "text"
      },
      "source": [
        "### 5. Usando el modelo\n",
        "\n",
        "Una vez que hemos entrenado nuestro modelo y hemos visto que funciona bien en el conjunto de test, podemos pasar a utilizarlo para predecir la clase de nuevas muestras. \n",
        "\n",
        "Por ejemplo, si tenemos una nueva muestra con largo de sépalo 5.2, ancho de sépalo 3.3, largo de pétalo 1.6, y ancho de pétalo 0.5; podemos pedirle al modelo que nos diga a la clase que pertenece dicha muestra del siguiente modo:"
      ]
    },
    {
      "cell_type": "code",
      "metadata": {
        "id": "aGz71KfkITVc",
        "colab_type": "code",
        "outputId": "30053e10-20bc-4ae7-b826-c13846ccec5f",
        "colab": {
          "base_uri": "https://localhost:8080/",
          "height": 35
        }
      },
      "source": [
        "knn.predict([[5.2,3.3,1.6,0.5],[1.2,0.3,2.6,5.5]])"
      ],
      "execution_count": 0,
      "outputs": [
        {
          "output_type": "execute_result",
          "data": {
            "text/plain": [
              "array(['Iris-setosa', 'Iris-virginica'], dtype=object)"
            ]
          },
          "metadata": {
            "tags": []
          },
          "execution_count": 13
        }
      ]
    },
    {
      "cell_type": "markdown",
      "metadata": {
        "id": "kcyEb-IHccv2",
        "colab_type": "text"
      },
      "source": [
        "-----\n",
        "Fin"
      ]
    }
  ]
}