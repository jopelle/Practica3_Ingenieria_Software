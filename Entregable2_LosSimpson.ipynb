{
  "nbformat": 4,
  "nbformat_minor": 0,
  "metadata": {
    "colab": {
      "name": "Entregable2_LosSimpson.ipynb",
      "provenance": [],
      "authorship_tag": "ABX9TyPIuApwBz4VH3x+oPh5u8Ue",
      "include_colab_link": true
    },
    "kernelspec": {
      "name": "python3",
      "display_name": "Python 3"
    }
  },
  "cells": [
    {
      "cell_type": "markdown",
      "metadata": {
        "id": "view-in-github",
        "colab_type": "text"
      },
      "source": [
        "<a href=\"https://colab.research.google.com/github/jopelle/Practica3_Ingenieria_Software/blob/master/Entregable2_LosSimpson.ipynb\" target=\"_parent\"><img src=\"https://colab.research.google.com/assets/colab-badge.svg\" alt=\"Open In Colab\"/></a>"
      ]
    },
    {
      "cell_type": "markdown",
      "metadata": {
        "id": "Z5LlZvwubGx9",
        "colab_type": "text"
      },
      "source": [
        "<img src=\"https://pics.filmaffinity.com/Los_Simpson_Serie_de_TV-298366494-large.jpg\" alt=\"Los Simpson\" style=\"width: 50px;\"/>"
      ]
    },
    {
      "cell_type": "code",
      "metadata": {
        "id": "9HEkwyNxYfME",
        "colab_type": "code",
        "colab": {}
      },
      "source": [
        "from fastai.vision import *\n",
        "import os\n",
        "from google.colab import files"
      ],
      "execution_count": 0,
      "outputs": []
    },
    {
      "cell_type": "code",
      "metadata": {
        "id": "LoaX2Ww2gzt7",
        "colab_type": "code",
        "colab": {
          "base_uri": "https://localhost:8080/",
          "height": 1000
        },
        "outputId": "56d14cb6-ff2c-4f3e-cf84-72a39a2f9918"
      },
      "source": [
        "for c in ['bart','homer','lisa','magie','marge']:\n",
        "    folder = c\n",
        "    file = c+'.csv'\n",
        "    path = Path('data/simpson')\n",
        "    dest = path/folder\n",
        "    dest.mkdir(parents=True,exist_ok=True)\n",
        "    os.rename(file,path/file)\n",
        "    download_images(path/file,dest,max_pics=200)"
      ],
      "execution_count": 5,
      "outputs": [
        {
          "output_type": "display_data",
          "data": {
            "text/html": [
              ""
            ],
            "text/plain": [
              "<IPython.core.display.HTML object>"
            ]
          },
          "metadata": {
            "tags": []
          }
        },
        {
          "output_type": "stream",
          "text": [
            "Error  Invalid URL '': No schema supplied. Perhaps you meant http://?\n",
            "Error  Invalid URL '': No schema supplied. Perhaps you meant http://?\n",
            "Error  Invalid URL '': No schema supplied. Perhaps you meant http://?\n",
            "Error  Invalid URL '': No schema supplied. Perhaps you meant http://?\n",
            "Error  Invalid URL '': No schema supplied. Perhaps you meant http://?\n",
            "Error  Invalid URL '': No schema supplied. Perhaps you meant http://?\n",
            "Error  Invalid URL '': No schema supplied. Perhaps you meant http://?\n",
            "Error  Invalid URL '': No schema supplied. Perhaps you meant http://?\n",
            "Error  Invalid URL '': No schema supplied. Perhaps you meant http://?\n",
            "Error  Invalid URL '': No schema supplied. Perhaps you meant http://?\n",
            "Error  Invalid URL '': No schema supplied. Perhaps you meant http://?\n",
            "Error  Invalid URL '': No schema supplied. Perhaps you meant http://?\n",
            "Error  Invalid URL '': No schema supplied. Perhaps you meant http://?\n",
            "Error  Invalid URL '': No schema supplied. Perhaps you meant http://?\n",
            "Error  Invalid URL '': No schema supplied. Perhaps you meant http://?\n",
            "Error  Invalid URL '': No schema supplied. Perhaps you meant http://?\n",
            "Error  Invalid URL '': No schema supplied. Perhaps you meant http://?\n",
            "Error  Invalid URL '': No schema supplied. Perhaps you meant http://?\n",
            "Error  Invalid URL '': No schema supplied. Perhaps you meant http://?\n",
            "Error  Invalid URL '': No schema supplied. Perhaps you meant http://?\n",
            "Error  Invalid URL '': No schema supplied. Perhaps you meant http://?\n",
            "Error  Invalid URL '': No schema supplied. Perhaps you meant http://?\n",
            "Error  Invalid URL '': No schema supplied. Perhaps you meant http://?\n",
            "Error  Invalid URL '': No schema supplied. Perhaps you meant http://?\n",
            "Error  Invalid URL '': No schema supplied. Perhaps you meant http://?\n",
            "Error  Invalid URL '': No schema supplied. Perhaps you meant http://?\n",
            "Error  Invalid URL '': No schema supplied. Perhaps you meant http://?\n",
            "Error  Invalid URL '': No schema supplied. Perhaps you meant http://?\n",
            "Error  Invalid URL '': No schema supplied. Perhaps you meant http://?\n",
            "Error  Invalid URL '': No schema supplied. Perhaps you meant http://?\n",
            "Error  Invalid URL '': No schema supplied. Perhaps you meant http://?\n",
            "Error  Invalid URL '': No schema supplied. Perhaps you meant http://?\n",
            "Error  Invalid URL '': No schema supplied. Perhaps you meant http://?\n",
            "Error  Invalid URL '': No schema supplied. Perhaps you meant http://?\n",
            "Error  Invalid URL '': No schema supplied. Perhaps you meant http://?\n",
            "Error  Invalid URL '': No schema supplied. Perhaps you meant http://?\n",
            "Error  Invalid URL '': No schema supplied. Perhaps you meant http://?\n",
            "Error  Invalid URL '': No schema supplied. Perhaps you meant http://?\n",
            "Error  Invalid URL '': No schema supplied. Perhaps you meant http://?\n",
            "Error  Invalid URL '': No schema supplied. Perhaps you meant http://?\n"
          ],
          "name": "stdout"
        },
        {
          "output_type": "display_data",
          "data": {
            "text/html": [
              ""
            ],
            "text/plain": [
              "<IPython.core.display.HTML object>"
            ]
          },
          "metadata": {
            "tags": []
          }
        },
        {
          "output_type": "stream",
          "text": [
            "Error  Invalid URL '': No schema supplied. Perhaps you meant http://?\n",
            "Error  Invalid URL '': No schema supplied. Perhaps you meant http://?\n",
            "Error  Invalid URL '': No schema supplied. Perhaps you meant http://?\n",
            "Error  Invalid URL '': No schema supplied. Perhaps you meant http://?\n",
            "Error  Invalid URL '': No schema supplied. Perhaps you meant http://?\n",
            "Error  Invalid URL '': No schema supplied. Perhaps you meant http://?\n",
            "Error  Invalid URL '': No schema supplied. Perhaps you meant http://?\n",
            "Error  Invalid URL '': No schema supplied. Perhaps you meant http://?\n",
            "Error  Invalid URL '': No schema supplied. Perhaps you meant http://?\n",
            "Error  Invalid URL '': No schema supplied. Perhaps you meant http://?\n",
            "Error  Invalid URL '': No schema supplied. Perhaps you meant http://?\n",
            "Error  Invalid URL '': No schema supplied. Perhaps you meant http://?\n",
            "Error  Invalid URL '': No schema supplied. Perhaps you meant http://?\n",
            "Error  Invalid URL '': No schema supplied. Perhaps you meant http://?\n",
            "Error  Invalid URL '': No schema supplied. Perhaps you meant http://?\n",
            "Error  Invalid URL '': No schema supplied. Perhaps you meant http://?\n",
            "Error  Invalid URL '': No schema supplied. Perhaps you meant http://?\n",
            "Error  Invalid URL '': No schema supplied. Perhaps you meant http://?\n",
            "Error  Invalid URL '': No schema supplied. Perhaps you meant http://?\n",
            "Error  Invalid URL '': No schema supplied. Perhaps you meant http://?\n",
            "Error  Invalid URL '': No schema supplied. Perhaps you meant http://?\n",
            "Error  Invalid URL '': No schema supplied. Perhaps you meant http://?\n",
            "Error  Invalid URL '': No schema supplied. Perhaps you meant http://?\n",
            "Error  Invalid URL '': No schema supplied. Perhaps you meant http://?\n",
            "Error  Invalid URL '': No schema supplied. Perhaps you meant http://?\n",
            "Error  Invalid URL '': No schema supplied. Perhaps you meant http://?\n",
            "Error  Invalid URL '': No schema supplied. Perhaps you meant http://?\n",
            "Error  Invalid URL '': No schema supplied. Perhaps you meant http://?\n",
            "Error  Invalid URL '': No schema supplied. Perhaps you meant http://?\n",
            "Error  Invalid URL '': No schema supplied. Perhaps you meant http://?\n",
            "Error  Invalid URL '': No schema supplied. Perhaps you meant http://?\n",
            "Error  Invalid URL '': No schema supplied. Perhaps you meant http://?\n",
            "Error  Invalid URL '': No schema supplied. Perhaps you meant http://?\n",
            "Error  Invalid URL '': No schema supplied. Perhaps you meant http://?\n",
            "Error  Invalid URL '': No schema supplied. Perhaps you meant http://?\n",
            "Error  Invalid URL '': No schema supplied. Perhaps you meant http://?\n",
            "Error  Invalid URL '': No schema supplied. Perhaps you meant http://?\n",
            "Error  Invalid URL '': No schema supplied. Perhaps you meant http://?\n",
            "Error  Invalid URL '': No schema supplied. Perhaps you meant http://?\n",
            "Error  Invalid URL '': No schema supplied. Perhaps you meant http://?\n"
          ],
          "name": "stdout"
        },
        {
          "output_type": "display_data",
          "data": {
            "text/html": [
              ""
            ],
            "text/plain": [
              "<IPython.core.display.HTML object>"
            ]
          },
          "metadata": {
            "tags": []
          }
        },
        {
          "output_type": "stream",
          "text": [
            "Error  Invalid URL '': No schema supplied. Perhaps you meant http://?\n",
            "Error  Invalid URL '': No schema supplied. Perhaps you meant http://?\n",
            "Error  Invalid URL '': No schema supplied. Perhaps you meant http://?\n",
            "Error  Invalid URL '': No schema supplied. Perhaps you meant http://?\n",
            "Error  Invalid URL '': No schema supplied. Perhaps you meant http://?\n",
            "Error  Invalid URL '': No schema supplied. Perhaps you meant http://?\n",
            "Error  Invalid URL '': No schema supplied. Perhaps you meant http://?\n",
            "Error  Invalid URL '': No schema supplied. Perhaps you meant http://?\n",
            "Error  Invalid URL '': No schema supplied. Perhaps you meant http://?\n",
            "Error  Invalid URL '': No schema supplied. Perhaps you meant http://?\n",
            "Error  Invalid URL '': No schema supplied. Perhaps you meant http://?\n",
            "Error  Invalid URL '': No schema supplied. Perhaps you meant http://?\n",
            "Error  Invalid URL '': No schema supplied. Perhaps you meant http://?\n",
            "Error  Invalid URL '': No schema supplied. Perhaps you meant http://?\n",
            "Error  Invalid URL '': No schema supplied. Perhaps you meant http://?\n",
            "Error  Invalid URL '': No schema supplied. Perhaps you meant http://?\n",
            "Error  Invalid URL '': No schema supplied. Perhaps you meant http://?\n",
            "Error  Invalid URL '': No schema supplied. Perhaps you meant http://?\n",
            "Error  Invalid URL '': No schema supplied. Perhaps you meant http://?\n",
            "Error  Invalid URL '': No schema supplied. Perhaps you meant http://?\n",
            "Error  Invalid URL '': No schema supplied. Perhaps you meant http://?\n",
            "Error  Invalid URL '': No schema supplied. Perhaps you meant http://?\n",
            "Error  Invalid URL '': No schema supplied. Perhaps you meant http://?\n",
            "Error  Invalid URL '': No schema supplied. Perhaps you meant http://?\n",
            "Error  Invalid URL '': No schema supplied. Perhaps you meant http://?\n",
            "Error  Invalid URL '': No schema supplied. Perhaps you meant http://?\n",
            "Error  Invalid URL '': No schema supplied. Perhaps you meant http://?\n",
            "Error  Invalid URL '': No schema supplied. Perhaps you meant http://?\n",
            "Error  Invalid URL '': No schema supplied. Perhaps you meant http://?\n",
            "Error  Invalid URL '': No schema supplied. Perhaps you meant http://?\n",
            "Error  Invalid URL '': No schema supplied. Perhaps you meant http://?\n",
            "Error  Invalid URL '': No schema supplied. Perhaps you meant http://?\n",
            "Error  Invalid URL '': No schema supplied. Perhaps you meant http://?\n",
            "Error  Invalid URL '': No schema supplied. Perhaps you meant http://?\n",
            "Error  Invalid URL '': No schema supplied. Perhaps you meant http://?\n",
            "Error  Invalid URL '': No schema supplied. Perhaps you meant http://?\n",
            "Error  Invalid URL '': No schema supplied. Perhaps you meant http://?\n",
            "Error  Invalid URL '': No schema supplied. Perhaps you meant http://?\n",
            "Error  Invalid URL '': No schema supplied. Perhaps you meant http://?\n",
            "Error  Invalid URL '': No schema supplied. Perhaps you meant http://?\n"
          ],
          "name": "stdout"
        },
        {
          "output_type": "display_data",
          "data": {
            "text/html": [
              ""
            ],
            "text/plain": [
              "<IPython.core.display.HTML object>"
            ]
          },
          "metadata": {
            "tags": []
          }
        },
        {
          "output_type": "stream",
          "text": [
            "Error  Invalid URL '': No schema supplied. Perhaps you meant http://?\n",
            "Error  Invalid URL '': No schema supplied. Perhaps you meant http://?\n",
            "Error  Invalid URL '': No schema supplied. Perhaps you meant http://?\n",
            "Error  Invalid URL '': No schema supplied. Perhaps you meant http://?\n",
            "Error  Invalid URL '': No schema supplied. Perhaps you meant http://?\n",
            "Error  Invalid URL '': No schema supplied. Perhaps you meant http://?\n",
            "Error  Invalid URL '': No schema supplied. Perhaps you meant http://?\n",
            "Error  Invalid URL '': No schema supplied. Perhaps you meant http://?\n",
            "Error  Invalid URL '': No schema supplied. Perhaps you meant http://?\n",
            "Error  Invalid URL '': No schema supplied. Perhaps you meant http://?\n",
            "Error  Invalid URL '': No schema supplied. Perhaps you meant http://?\n",
            "Error  Invalid URL '': No schema supplied. Perhaps you meant http://?\n",
            "Error  Invalid URL '': No schema supplied. Perhaps you meant http://?\n",
            "Error  Invalid URL '': No schema supplied. Perhaps you meant http://?\n",
            "Error  Invalid URL '': No schema supplied. Perhaps you meant http://?\n",
            "Error  Invalid URL '': No schema supplied. Perhaps you meant http://?\n",
            "Error  Invalid URL '': No schema supplied. Perhaps you meant http://?\n",
            "Error  Invalid URL '': No schema supplied. Perhaps you meant http://?\n",
            "Error  Invalid URL '': No schema supplied. Perhaps you meant http://?\n",
            "Error  Invalid URL '': No schema supplied. Perhaps you meant http://?\n",
            "Error  Invalid URL '': No schema supplied. Perhaps you meant http://?\n",
            "Error  Invalid URL '': No schema supplied. Perhaps you meant http://?\n",
            "Error  Invalid URL '': No schema supplied. Perhaps you meant http://?\n",
            "Error  Invalid URL '': No schema supplied. Perhaps you meant http://?\n",
            "Error  Invalid URL '': No schema supplied. Perhaps you meant http://?\n",
            "Error  Invalid URL '': No schema supplied. Perhaps you meant http://?\n",
            "Error  Invalid URL '': No schema supplied. Perhaps you meant http://?\n",
            "Error  Invalid URL '': No schema supplied. Perhaps you meant http://?\n",
            "Error  Invalid URL '': No schema supplied. Perhaps you meant http://?\n",
            "Error  Invalid URL '': No schema supplied. Perhaps you meant http://?\n",
            "Error  Invalid URL '': No schema supplied. Perhaps you meant http://?\n",
            "Error  Invalid URL '': No schema supplied. Perhaps you meant http://?\n",
            "Error  Invalid URL '': No schema supplied. Perhaps you meant http://?\n",
            "Error  Invalid URL '': No schema supplied. Perhaps you meant http://?\n",
            "Error  Invalid URL '': No schema supplied. Perhaps you meant http://?\n",
            "Error  Invalid URL '': No schema supplied. Perhaps you meant http://?\n",
            "Error  Invalid URL '': No schema supplied. Perhaps you meant http://?\n",
            "Error  Invalid URL '': No schema supplied. Perhaps you meant http://?\n",
            "Error  Invalid URL '': No schema supplied. Perhaps you meant http://?\n",
            "Error  Invalid URL '': No schema supplied. Perhaps you meant http://?\n"
          ],
          "name": "stdout"
        },
        {
          "output_type": "display_data",
          "data": {
            "text/html": [
              ""
            ],
            "text/plain": [
              "<IPython.core.display.HTML object>"
            ]
          },
          "metadata": {
            "tags": []
          }
        },
        {
          "output_type": "stream",
          "text": [
            "Error  Invalid URL '': No schema supplied. Perhaps you meant http://?\n",
            "Error  Invalid URL '': No schema supplied. Perhaps you meant http://?\n",
            "Error  Invalid URL '': No schema supplied. Perhaps you meant http://?\n",
            "Error  Invalid URL '': No schema supplied. Perhaps you meant http://?\n",
            "Error  Invalid URL '': No schema supplied. Perhaps you meant http://?\n",
            "Error  Invalid URL '': No schema supplied. Perhaps you meant http://?\n",
            "Error  Invalid URL '': No schema supplied. Perhaps you meant http://?\n",
            "Error  Invalid URL '': No schema supplied. Perhaps you meant http://?\n",
            "Error  Invalid URL '': No schema supplied. Perhaps you meant http://?\n",
            "Error  Invalid URL '': No schema supplied. Perhaps you meant http://?\n",
            "Error  Invalid URL '': No schema supplied. Perhaps you meant http://?\n",
            "Error  Invalid URL '': No schema supplied. Perhaps you meant http://?\n",
            "Error  Invalid URL '': No schema supplied. Perhaps you meant http://?\n",
            "Error  Invalid URL '': No schema supplied. Perhaps you meant http://?\n",
            "Error  Invalid URL '': No schema supplied. Perhaps you meant http://?\n",
            "Error  Invalid URL '': No schema supplied. Perhaps you meant http://?\n",
            "Error  Invalid URL '': No schema supplied. Perhaps you meant http://?\n",
            "Error  Invalid URL '': No schema supplied. Perhaps you meant http://?\n",
            "Error  Invalid URL '': No schema supplied. Perhaps you meant http://?\n",
            "Error  Invalid URL '': No schema supplied. Perhaps you meant http://?\n",
            "Error  Invalid URL '': No schema supplied. Perhaps you meant http://?\n",
            "Error  Invalid URL '': No schema supplied. Perhaps you meant http://?\n",
            "Error  Invalid URL '': No schema supplied. Perhaps you meant http://?\n",
            "Error  Invalid URL '': No schema supplied. Perhaps you meant http://?\n",
            "Error  Invalid URL '': No schema supplied. Perhaps you meant http://?\n",
            "Error  Invalid URL '': No schema supplied. Perhaps you meant http://?\n",
            "Error  Invalid URL '': No schema supplied. Perhaps you meant http://?\n",
            "Error  Invalid URL '': No schema supplied. Perhaps you meant http://?\n",
            "Error  Invalid URL '': No schema supplied. Perhaps you meant http://?\n",
            "Error  Invalid URL '': No schema supplied. Perhaps you meant http://?\n",
            "Error  Invalid URL '': No schema supplied. Perhaps you meant http://?\n",
            "Error  Invalid URL '': No schema supplied. Perhaps you meant http://?\n",
            "Error  Invalid URL '': No schema supplied. Perhaps you meant http://?\n",
            "Error  Invalid URL '': No schema supplied. Perhaps you meant http://?\n",
            "Error  Invalid URL '': No schema supplied. Perhaps you meant http://?\n",
            "Error  Invalid URL '': No schema supplied. Perhaps you meant http://?\n",
            "Error  Invalid URL '': No schema supplied. Perhaps you meant http://?\n",
            "Error  Invalid URL '': No schema supplied. Perhaps you meant http://?\n",
            "Error  Invalid URL '': No schema supplied. Perhaps you meant http://?\n",
            "Error  Invalid URL '': No schema supplied. Perhaps you meant http://?\n"
          ],
          "name": "stdout"
        }
      ]
    },
    {
      "cell_type": "code",
      "metadata": {
        "id": "B5BRLxdoiO1D",
        "colab_type": "code",
        "colab": {
          "base_uri": "https://localhost:8080/",
          "height": 108
        },
        "outputId": "d513588f-49f4-469b-c110-f901fa8f4918"
      },
      "source": [
        "for c in ['bart','homer','lisa','magie','marge']:\n",
        "  print(c)\n",
        "  verify_images(path/c,delete=True,max_size=500)"
      ],
      "execution_count": 7,
      "outputs": [
        {
          "output_type": "stream",
          "text": [
            "bart\n"
          ],
          "name": "stdout"
        },
        {
          "output_type": "display_data",
          "data": {
            "text/html": [
              ""
            ],
            "text/plain": [
              "<IPython.core.display.HTML object>"
            ]
          },
          "metadata": {
            "tags": []
          }
        },
        {
          "output_type": "stream",
          "text": [
            "homer\n"
          ],
          "name": "stdout"
        },
        {
          "output_type": "display_data",
          "data": {
            "text/html": [
              ""
            ],
            "text/plain": [
              "<IPython.core.display.HTML object>"
            ]
          },
          "metadata": {
            "tags": []
          }
        },
        {
          "output_type": "stream",
          "text": [
            "lisa\n"
          ],
          "name": "stdout"
        },
        {
          "output_type": "display_data",
          "data": {
            "text/html": [
              ""
            ],
            "text/plain": [
              "<IPython.core.display.HTML object>"
            ]
          },
          "metadata": {
            "tags": []
          }
        },
        {
          "output_type": "stream",
          "text": [
            "magie\n"
          ],
          "name": "stdout"
        },
        {
          "output_type": "display_data",
          "data": {
            "text/html": [
              ""
            ],
            "text/plain": [
              "<IPython.core.display.HTML object>"
            ]
          },
          "metadata": {
            "tags": []
          }
        },
        {
          "output_type": "stream",
          "text": [
            "marge\n"
          ],
          "name": "stdout"
        },
        {
          "output_type": "display_data",
          "data": {
            "text/html": [
              ""
            ],
            "text/plain": [
              "<IPython.core.display.HTML object>"
            ]
          },
          "metadata": {
            "tags": []
          }
        }
      ]
    },
    {
      "cell_type": "code",
      "metadata": {
        "id": "0wCgVe4zibB0",
        "colab_type": "code",
        "colab": {}
      },
      "source": [
        ""
      ],
      "execution_count": 0,
      "outputs": []
    }
  ]
}