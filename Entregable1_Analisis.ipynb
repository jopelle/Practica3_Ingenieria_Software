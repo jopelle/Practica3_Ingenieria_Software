{
  "nbformat": 4,
  "nbformat_minor": 0,
  "metadata": {
    "colab": {
      "name": "Entregable1_Analisis.ipynb",
      "provenance": [],
      "authorship_tag": "ABX9TyNOnXcTlOpHRTkeLHQDAd6j",
      "include_colab_link": true
    },
    "kernelspec": {
      "name": "python3",
      "display_name": "Python 3"
    }
  },
  "cells": [
    {
      "cell_type": "markdown",
      "metadata": {
        "id": "view-in-github",
        "colab_type": "text"
      },
      "source": [
        "<a href=\"https://colab.research.google.com/github/jopelle/Practica3_Ingenieria_Software/blob/master/Entregable1_Analisis.ipynb\" target=\"_parent\"><img src=\"https://colab.research.google.com/assets/colab-badge.svg\" alt=\"Open In Colab\"/></a>"
      ]
    },
    {
      "cell_type": "markdown",
      "metadata": {
        "id": "0mXRzejyzKBA",
        "colab_type": "text"
      },
      "source": [
        "**Entregable 1  Análisis de los datos**"
      ]
    },
    {
      "cell_type": "code",
      "metadata": {
        "id": "haoFg0gTypz5",
        "colab_type": "code",
        "colab": {}
      },
      "source": [
        ""
      ],
      "execution_count": 0,
      "outputs": []
    }
  ]
}